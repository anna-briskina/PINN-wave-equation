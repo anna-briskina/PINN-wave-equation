{
 "cells": [
  {
   "cell_type": "markdown",
   "id": "f93a6f04-d438-4dc7-858e-c182e923481c",
   "metadata": {},
   "source": [
    "# Solving the 1D Wave Equation using Physics-Informed Neural Networks (PINN)"
   ]
  },
  {
   "cell_type": "markdown",
   "id": "f643166f-4a7a-4720-bad4-4246092702ad",
   "metadata": {
    "tags": []
   },
   "source": [
    "This project aims to solve the 1D wave equation using a Physics-Informed Neural Network (PINN). The wave equation describes the propagation of waves, such as sound, light, or water waves, and is given by:\n",
    "\n",
    "$$\n",
    "\\frac{∂^2 u}{∂ t^2} = c^2 \\frac{∂^2 u}{∂ x^2}\n",
    "$$\n",
    "\n",
    "where:\n",
    "- The function $ u $ represents the wave itself. It is a function of position $ x $ and time $ t $. For a vibrating string, $ u $ could represent the vertical displacement of a point on the string at position $ x $ and time $ t $.\n",
    "- The constant $ c $ represents the wave speed, which is set to $ 1 $ for simplicity. This could be the speed of sound in air, the speed of light in a vacuum, or the speed of a wave traveling along a string. It depends on the properties of the medium the wave is traveling through.\n",
    "- $ \\frac{∂^2 u}{∂ t^2} $ is the second partial derivative of $ u $ with respect to time. It represents the acceleration of the wave (how fast the displacement is changing in time).\n",
    "- $ \\frac{∂^2 u}{∂ x^2} $ is the second partial derivative of $ u $ with respect to space. It represents the curvature of the wave (how steep or curved the wave is in space).\n",
    "\n",
    "The focus is on solving this equation over the domain $ x∈[0,1] $ and $ t∈[0,T] $, with initial and boundary conditions defined as follows:\n",
    "- Initial displacement: $ u(x,0)=sin(πx) $.\n",
    "- Initial velocity: $ \\frac{∂u}{∂t}(x,0)=0 $.\n",
    "- Boundary conditions: $ u(0,t)=u(1,t)=0 $.\n",
    "\n",
    "The solution is modeled using a PINN, where the neural network is trained to satisfy the wave equation as a constraint and the given initial and boundary conditions. The PINN allows the neural network to directly learn the solution while respecting known physical laws. The model is trained not just on data points but also on the governing equations, which guides the training process and ensures the solution adheres to the wave equation."
   ]
  },
  {
   "cell_type": "code",
   "execution_count": 1,
   "id": "f514ce0f-8195-4caf-9bfd-2e84dac31004",
   "metadata": {},
   "outputs": [],
   "source": [
    "import torch\n",
    "import torch.nn as nn\n",
    "import numpy as np\n",
    "import matplotlib.pyplot as plt"
   ]
  },
  {
   "cell_type": "code",
   "execution_count": 2,
   "id": "33c6b0d6-1ca4-447e-a168-fee03bd39adf",
   "metadata": {},
   "outputs": [],
   "source": [
    "# Set wave speed\n",
    "c = 1.0"
   ]
  },
  {
   "cell_type": "code",
   "execution_count": 3,
   "id": "30433b02-5ac0-4cf0-8f0e-df3fadcdf003",
   "metadata": {},
   "outputs": [],
   "source": [
    "# Define the PINN model\n",
    "class PINN(nn.Module):\n",
    "    def __init__(self):\n",
    "        super(PINN, self).__init__()\n",
    "        self.layer1 = nn.Linear(2, 20)\n",
    "        self.layer2 = nn.Linear(20, 20)\n",
    "        self.layer3 = nn.Linear(20, 20)\n",
    "        self.output_layer = nn.Linear(20, 1)\n",
    "\n",
    "    def forward(self, x, t):\n",
    "        input = torch.cat((x, t), dim=1)  # Combine x and t inputs\n",
    "        h = torch.tanh(self.layer1(input))\n",
    "        h = torch.tanh(self.layer2(h))\n",
    "        h = torch.tanh(self.layer3(h))\n",
    "        return self.output_layer(h)"
   ]
  },
  {
   "cell_type": "code",
   "execution_count": 4,
   "id": "cfdf3bb2-2153-45dc-a4be-78b5ad0b16b8",
   "metadata": {},
   "outputs": [],
   "source": [
    "# Define the loss function\n",
    "def wave_pinn_loss(model, x, t):\n",
    "    # Ensure gradient tracking for x and t\n",
    "    x.requires_grad = True\n",
    "    t.requires_grad = True\n",
    "\n",
    "    # Predict u(x, t) with the model\n",
    "    u = model(x, t)\n",
    "\n",
    "    # Calculate first and second time derivatives\n",
    "    u_t = torch.autograd.grad(u, t, grad_outputs=torch.ones_like(u), create_graph=True)[0]\n",
    "    u_tt = torch.autograd.grad(u_t, t, grad_outputs=torch.ones_like(u), create_graph=True)[0]\n",
    "\n",
    "    # Calculate first and second spatial derivatives\n",
    "    u_x = torch.autograd.grad(u, x, grad_outputs=torch.ones_like(u), create_graph=True)[0]\n",
    "    u_xx = torch.autograd.grad(u_x, x, grad_outputs=torch.ones_like(u), create_graph=True)[0]\n",
    "\n",
    "    # Physics-informed loss (wave equation)\n",
    "    physics_loss = torch.mean((u_tt - c**2 * u_xx) ** 2)\n",
    "\n",
    "    # Initial condition loss at t = 0\n",
    "    t_zeros = torch.zeros_like(x, requires_grad=True)  # t = 0 with requires_grad=True\n",
    "    u0 = model(x, t_zeros)\n",
    "    initial_loss = torch.mean((u0 - torch.sin(np.pi * x))**2)\n",
    "\n",
    "    # Velocity loss at t = 0\n",
    "    u_t0 = torch.autograd.grad(u0, t_zeros, grad_outputs=torch.ones_like(u0), create_graph=True)[0]\n",
    "    velocity_loss = torch.mean(u_t0**2 + 1e-6)  # Stabilized with epsilon\n",
    "\n",
    "    # Boundary conditions at x = 0 and x = 1\n",
    "    u_left = model(torch.zeros_like(t), t)\n",
    "    u_right = model(torch.ones_like(t), t)\n",
    "    boundary_loss = torch.mean(u_left**2) + torch.mean(u_right**2)\n",
    "\n",
    "    # Total loss\n",
    "    total_loss = physics_loss + initial_loss + velocity_loss + boundary_loss\n",
    "    return total_loss"
   ]
  },
  {
   "cell_type": "code",
   "execution_count": 5,
   "id": "ad9d3732-63fb-4de4-9ba5-586ebc067876",
   "metadata": {},
   "outputs": [],
   "source": [
    "# Generate training data (random points in [0, 1] x [0, T])\n",
    "num_points = 1000\n",
    "T = 1.0  # Time duration\n",
    "x_train = torch.rand(num_points, 1, dtype=torch.float32)  # Random points in [0, 1] for x\n",
    "t_train = torch.rand(num_points, 1, dtype=torch.float32) * T  # Random points in [0, T] for t"
   ]
  },
  {
   "cell_type": "code",
   "execution_count": 6,
   "id": "08cdba98-9d6a-4c04-a2cc-983719709750",
   "metadata": {},
   "outputs": [],
   "source": [
    "# Initialize the model and optimizer\n",
    "model = PINN()\n",
    "optimizer = torch.optim.Adam(model.parameters(), lr=1e-4)\n",
    "num_epochs = 5000"
   ]
  },
  {
   "cell_type": "code",
   "execution_count": 7,
   "id": "b78833cc-d041-40df-b75c-8151868d00b0",
   "metadata": {},
   "outputs": [
    {
     "name": "stdout",
     "output_type": "stream",
     "text": [
      "Epoch 0, Loss: 0.36745089292526245\n",
      "Epoch 500, Loss: 0.287708044052124\n",
      "Epoch 1000, Loss: 0.19127532839775085\n",
      "Epoch 1500, Loss: 0.1525924801826477\n",
      "Epoch 2000, Loss: 0.1082494780421257\n",
      "Epoch 2500, Loss: 0.03850014507770538\n",
      "Epoch 3000, Loss: 0.011254921555519104\n",
      "Epoch 3500, Loss: 0.004982796031981707\n",
      "Epoch 4000, Loss: 0.002637761877849698\n",
      "Epoch 4500, Loss: 0.0018045406322926283\n"
     ]
    }
   ],
   "source": [
    "# Training loop with gradient clipping\n",
    "for epoch in range(num_epochs):\n",
    "    optimizer.zero_grad()\n",
    "    loss = wave_pinn_loss(model, x_train, t_train)\n",
    "    \n",
    "    if torch.isnan(loss):\n",
    "        print(f\"NaN encountered at epoch {epoch}. Stopping training.\")\n",
    "        break  # Stop training if NaN is encountered\n",
    "\n",
    "    loss.backward()\n",
    "    torch.nn.utils.clip_grad_norm_(model.parameters(), max_norm=1.0)  # Gradient clipping\n",
    "    optimizer.step()\n",
    "    \n",
    "    if epoch % 500 == 0:\n",
    "        print(f\"Epoch {epoch}, Loss: {loss.item()}\")"
   ]
  },
  {
   "cell_type": "code",
   "execution_count": 8,
   "id": "55133877-8fba-46b5-bfd7-9fd5467d05b6",
   "metadata": {},
   "outputs": [],
   "source": [
    "# Test the trained model\n",
    "x_test = torch.linspace(0, 1, 100).view(-1, 1)  # Spatial domain [0, 1]\n",
    "t_test = torch.full_like(x_test, 0.5)  # Fixed time, e.g., t = 0.5\n",
    "u_pred = model(x_test, t_test).detach().numpy()  # Predicted solution u(x, 0.5)"
   ]
  },
  {
   "cell_type": "code",
   "execution_count": 9,
   "id": "86c59a28-5cbb-48ad-a507-12861a3b15ae",
   "metadata": {},
   "outputs": [
    {
     "name": "stdout",
     "output_type": "stream",
     "text": [
      "Mean Squared Error: 0.00013833823322784156\n",
      "Relative Error (%): inf\n"
     ]
    }
   ],
   "source": [
    "# Define the exact solution for comparison\n",
    "def exact_solution(x, t):\n",
    "    return torch.sin(np.pi * x) * torch.cos(c * np.pi * t)\n",
    "\n",
    "# Calculate accuracy\n",
    "def calculate_accuracy(model, x_test, t_test):\n",
    "    u_pred = model(x_test, t_test).detach()\n",
    "    u_exact = exact_solution(x_test, t_test)\n",
    "    mse = torch.mean((u_pred - u_exact) ** 2)  # Mean Squared Error\n",
    "    relative_error = torch.mean(torch.abs((u_pred - u_exact) / u_exact)) * 100  # Relative error in %\n",
    "    return mse.item(), relative_error.item()\n",
    "\n",
    "# Testing at a specific time, e.g., t = 0.5\n",
    "x_test = torch.linspace(0, 1, 100).view(-1, 1)  # Spatial domain [0, 1]\n",
    "t_test = torch.full_like(x_test, 0.5)  # Fixed time, e.g., t = 0.5\n",
    "mse, relative_error = calculate_accuracy(model, x_test, t_test)\n",
    "\n",
    "print(f\"Mean Squared Error: {mse}\")\n",
    "print(f\"Relative Error (%): {relative_error}\")"
   ]
  },
  {
   "cell_type": "markdown",
   "id": "18423f0d-fe57-4d45-a93a-1e5a67439c3a",
   "metadata": {},
   "source": [
    "The infinite relative error is likely due to the true solution being zero at certain points (e.g., at the boundaries of the domain), and the model predicting a non-zero value at those points. While this indicates a problem at those specific points, the MSE shows that, overall, the model is performing reasonably well across the entire domain. "
   ]
  },
  {
   "cell_type": "code",
   "execution_count": 10,
   "id": "02c962cd-00cf-47b3-8d48-992324e8fe45",
   "metadata": {},
   "outputs": [
    {
     "data": {
      "image/png": "[encoded data removed]",
      "text/plain": [
       "<Figure size 432x288 with 1 Axes>"
      ]
     },
     "metadata": {
      "needs_background": "light"
     },
     "output_type": "display_data"
    }
   ],
   "source": [
    "# Plot the results\n",
    "plt.plot(x_test.numpy(), u_pred, label=\"Predicted Solution at t=0.5\")\n",
    "plt.xlabel(\"x\")\n",
    "plt.ylabel(\"u(x, t=0.5)\")\n",
    "plt.legend()\n",
    "plt.show()"
   ]
  },
  {
   "cell_type": "code",
   "execution_count": null,
   "id": "693136b6-0e79-493e-8733-515aaab05f76",
   "metadata": {},
   "outputs": [],
   "source": []
  }
 ],
 "metadata": {
  "kernelspec": {
   "display_name": "Python 3 (ipykernel)",
   "language": "python",
   "name": "python3"
  },
  "language_info": {
   "codemirror_mode": {
    "name": "ipython",
    "version": 3
   },
   "file_extension": ".py",
   "mimetype": "text/x-python",
   "name": "python",
   "nbconvert_exporter": "python",
   "pygments_lexer": "ipython3",
   "version": "3.9.12"
  }
 },
 "nbformat": 4,
 "nbformat_minor": 5
}
